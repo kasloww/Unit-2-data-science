{
 "cells": [
  {
   "cell_type": "markdown",
   "metadata": {},
   "source": [
    "# File Operations\n",
    "In this excercise you will begin working on using the `open` function within python to manipulate files and create reports on those files.\n",
    "\n",
    "**YOU ARE TO INCLUDE COMMENTS ALONG SIDE YOUR CODE**"
   ]
  },
  {
   "cell_type": "markdown",
   "metadata": {},
   "source": [
    "1. Open the file \"states.txt\" that you downloaded, what does this file contain?\n",
    "```\n",
    "\n",
    "```"
   ]
  },
  {
   "cell_type": "markdown",
   "metadata": {},
   "source": [
    "\n",
    "*Use the code block below to open the same file, using a `for` loop print each line to the console.*"
   ]
  },
  {
   "cell_type": "code",
   "execution_count": null,
   "metadata": {
    "vscode": {
     "languageId": "plaintext"
    }
   },
   "outputs": [],
   "source": []
  },
  {
   "cell_type": "markdown",
   "metadata": {},
   "source": [
    "2. What type of chart would be best to represent this data? Explain why\n",
    "```\n",
    "\n",
    "```\n",
    "3. How would we need to transform the data we have, to be displayed in this chart?\n",
    "```\n",
    "\n",
    "```"
   ]
  },
  {
   "cell_type": "markdown",
   "metadata": {},
   "source": [
    "Using your knowledge of Python and Matplotlib write your code to transform and graph the data below.\n",
    "\n",
    "After your code create a new Markdown block to describe your analysis"
   ]
  },
  {
   "cell_type": "code",
   "execution_count": null,
   "metadata": {
    "vscode": {
     "languageId": "plaintext"
    }
   },
   "outputs": [],
   "source": []
  }
 ],
 "metadata": {
  "language_info": {
   "name": "python"
  }
 },
 "nbformat": 4,
 "nbformat_minor": 2
}
